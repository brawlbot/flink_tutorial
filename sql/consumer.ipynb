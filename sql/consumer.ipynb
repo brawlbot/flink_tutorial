{
 "cells": [
  {
   "cell_type": "code",
   "execution_count": 1,
   "metadata": {},
   "outputs": [],
   "source": [
    "import time\n",
    "import pandas as pd\n",
    "import json\n",
    "from kafka import KafkaConsumer\n",
    "# TOPIC_NAME = 'user_behavior'\n",
    "TOPIC_NAME = 'buy_cnt_per_hour'\n",
    "# Create a KafkaConsumer with deserializer\n",
    "consumer = KafkaConsumer(\n",
    "    bootstrap_servers=[\"10.237.96.122:9092\"],\n",
    "    # auto_offset_reset='latest', \n",
    "    auto_offset_reset='earliest', \n",
    "    # receive_buffer_bytes=160*1024,\n",
    "    enable_auto_commit=False,\n",
    "    value_deserializer=lambda m: json.loads(m.decode('ascii')),\n",
    ")\n",
    "\n",
    "# Subscribe to a specific topic\n",
    "consumer.subscribe(topics=TOPIC_NAME)\n",
    "N_sample = 10\n",
    "lst_record = []\n",
    "while True:\n",
    "    msg_poll = consumer.poll(timeout_ms=0)\n",
    "    for k, v in msg_poll.items():\n",
    "        for msg in v: \n",
    "            topic = msg.topic\n",
    "            partition = msg.partition\n",
    "            offset = msg.offset\n",
    "            value_msg = msg.value\n",
    "            try:\n",
    "                lst_record.append(value_msg)\n",
    "            except Exception as e:\n",
    "                print(f\"Error: {e}\")\n",
    "                continue\n",
    "    if len(lst_record) >= N_sample:\n",
    "        break\n",
    "\n",
    "df_record = pd.DataFrame(lst_record)\n",
    "df_record.describe()"
   ]
  },
  {
   "cell_type": "code",
   "execution_count": 3,
   "metadata": {},
   "outputs": [
    {
     "data": {
      "text/html": [
       "<div>\n",
       "<style scoped>\n",
       "    .dataframe tbody tr th:only-of-type {\n",
       "        vertical-align: middle;\n",
       "    }\n",
       "\n",
       "    .dataframe tbody tr th {\n",
       "        vertical-align: top;\n",
       "    }\n",
       "\n",
       "    .dataframe thead th {\n",
       "        text-align: right;\n",
       "    }\n",
       "</style>\n",
       "<table border=\"1\" class=\"dataframe\">\n",
       "  <thead>\n",
       "    <tr style=\"text-align: right;\">\n",
       "      <th></th>\n",
       "      <th>role_id</th>\n",
       "      <th>behavior</th>\n",
       "      <th>ts</th>\n",
       "    </tr>\n",
       "  </thead>\n",
       "  <tbody>\n",
       "    <tr>\n",
       "      <th>0</th>\n",
       "      <td>47</td>\n",
       "      <td>click</td>\n",
       "      <td>2024-11-24T23:33:11.698844</td>\n",
       "    </tr>\n",
       "    <tr>\n",
       "      <th>1</th>\n",
       "      <td>38</td>\n",
       "      <td>like</td>\n",
       "      <td>2024-11-24T23:33:11.700012</td>\n",
       "    </tr>\n",
       "    <tr>\n",
       "      <th>2</th>\n",
       "      <td>48</td>\n",
       "      <td>share</td>\n",
       "      <td>2024-11-24T23:33:11.700978</td>\n",
       "    </tr>\n",
       "    <tr>\n",
       "      <th>3</th>\n",
       "      <td>72</td>\n",
       "      <td>share</td>\n",
       "      <td>2024-11-24T23:33:11.701693</td>\n",
       "    </tr>\n",
       "    <tr>\n",
       "      <th>4</th>\n",
       "      <td>97</td>\n",
       "      <td>share</td>\n",
       "      <td>2024-11-24T23:33:11.701831</td>\n",
       "    </tr>\n",
       "  </tbody>\n",
       "</table>\n",
       "</div>"
      ],
      "text/plain": [
       "   role_id behavior                          ts\n",
       "0       47    click  2024-11-24T23:33:11.698844\n",
       "1       38     like  2024-11-24T23:33:11.700012\n",
       "2       48    share  2024-11-24T23:33:11.700978\n",
       "3       72    share  2024-11-24T23:33:11.701693\n",
       "4       97    share  2024-11-24T23:33:11.701831"
      ]
     },
     "execution_count": 3,
     "metadata": {},
     "output_type": "execute_result"
    }
   ],
   "source": [
    "df_record.head()"
   ]
  }
 ],
 "metadata": {
  "kernelspec": {
   "display_name": "bigdata",
   "language": "python",
   "name": "python3"
  },
  "language_info": {
   "codemirror_mode": {
    "name": "ipython",
    "version": 3
   },
   "file_extension": ".py",
   "mimetype": "text/x-python",
   "name": "python",
   "nbconvert_exporter": "python",
   "pygments_lexer": "ipython3",
   "version": "3.9.20"
  }
 },
 "nbformat": 4,
 "nbformat_minor": 2
}
