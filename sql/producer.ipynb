{
 "cells": [
  {
   "cell_type": "code",
   "execution_count": 1,
   "metadata": {},
   "outputs": [],
   "source": [
    "# from kafka import KafkaAdminClient\n",
    "# from kafka.admin import NewTopic\n",
    "# # Example usage\n",
    "topic_name = 'user_behavior'\n",
    "bootstrap_servers = [\"10.237.96.122:9092\"]\n",
    "# N_PARTITIONS = 1\n",
    "# def delete_kafka_topic(topic_name, bootstrap_servers=bootstrap_servers):\n",
    "#     # Create an admin client\n",
    "#     admin_client = KafkaAdminClient(bootstrap_servers=bootstrap_servers[0])\n",
    "\n",
    "#     # Delete the topic\n",
    "#     admin_client.delete_topics([topic_name])\n",
    "#     print(f\"Topic '{topic_name}' deleted successfully.\")\n",
    "\n",
    "\n",
    "# try:\n",
    "#     delete_kafka_topic(topic_name)\n",
    "# except Exception as e:\n",
    "#     print(f\"Error: {e}\")\n",
    "\n",
    "# # create topic foobar with N partitions\n",
    "# admin_client = KafkaAdminClient(bootstrap_servers=bootstrap_servers)\n",
    "# # admin_client.create_topics([NewTopic(name=topic_name, num_partitions=N_PARTITIONS, replication_factor=1)])\n",
    "\n",
    "\n",
    "# # get number of partitions\n",
    "# # admin_client.describe_topics(topic_name)"
   ]
  },
  {
   "cell_type": "code",
   "execution_count": 2,
   "metadata": {},
   "outputs": [
    {
     "data": {
      "text/plain": [
       "{'user_id': 5,\n",
       " 'item_id': 3,\n",
       " 'category_id': 3,\n",
       " 'behavior': 'click',\n",
       " 'ts': '2024-12-02 12:24:27.941'}"
      ]
     },
     "execution_count": 2,
     "metadata": {},
     "output_type": "execute_result"
    }
   ],
   "source": [
    "from datetime import datetime\n",
    "import time\n",
    "\n",
    "import random \n",
    "def gen_data():\n",
    "    user_id = random.randint(1, 100)\n",
    "    item_id = random.randint(1, 3)\n",
    "    category_id = random.choice(['shoes', 'clothes', 'bags', 'hats', 'accessories'])\n",
    "    behavior = random.choice(['click', 'like', 'share','buy'])\n",
    "    # behavior = 'buy'\n",
    "    # ts = datetime.now().isoformat()  # Add a timestamp\n",
    "    ts = datetime.now().strftime(\"%Y-%m-%d %H:%M:%S.%f\")[:-3]  # Format to \"yyyy-MM-dd HH:mm:ss.SSS\"\n",
    "\n",
    "    # ts = datetime.utcnow().strftime(\"%Y-%m-%dT%H:%M:%SZ\")\n",
    "\n",
    "    return {\"user_id\": user_id,\"item_id\": item_id, \n",
    "            \"category_id\":category_id, \"behavior\": behavior, \"ts\":ts\n",
    "            }\n",
    "\n",
    "gen_data()"
   ]
  },
  {
   "cell_type": "code",
   "execution_count": 4,
   "metadata": {},
   "outputs": [
    {
     "name": "stdout",
     "output_type": "stream",
     "text": [
      "Collecting kafka-python\n",
      "  Using cached kafka_python-2.0.2-py2.py3-none-any.whl.metadata (7.8 kB)\n",
      "Using cached kafka_python-2.0.2-py2.py3-none-any.whl (246 kB)\n",
      "Installing collected packages: kafka-python\n",
      "Successfully installed kafka-python-2.0.2\n",
      "Note: you may need to restart the kernel to use updated packages.\n"
     ]
    }
   ],
   "source": [
    "# pip install kafka-python"
   ]
  },
  {
   "cell_type": "code",
   "execution_count": 5,
   "metadata": {},
   "outputs": [],
   "source": [
    "from kafka import KafkaProducer\n",
    "import json\n",
    "\n",
    "producer = KafkaProducer(\n",
    "    bootstrap_servers=bootstrap_servers\n",
    ")\n"
   ]
  },
  {
   "cell_type": "code",
   "execution_count": 24,
   "metadata": {},
   "outputs": [],
   "source": [
    "while True:\n",
    "    for _ in range(100):\n",
    "        msg = gen_data()\n",
    "        producer.send(topic_name, value=json.dumps(msg).encode(\"utf-8\"))\n",
    "    time.sleep(1)"
   ]
  }
 ],
 "metadata": {
  "kernelspec": {
   "display_name": "bigdata",
   "language": "python",
   "name": "python3"
  },
  "language_info": {
   "codemirror_mode": {
    "name": "ipython",
    "version": 3
   },
   "file_extension": ".py",
   "mimetype": "text/x-python",
   "name": "python",
   "nbconvert_exporter": "python",
   "pygments_lexer": "ipython3",
   "version": "3.11.9"
  }
 },
 "nbformat": 4,
 "nbformat_minor": 2
}
