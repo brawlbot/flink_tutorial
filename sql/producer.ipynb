{
 "cells": [
  {
   "cell_type": "code",
   "execution_count": 1,
   "metadata": {},
   "outputs": [
    {
     "name": "stdout",
     "output_type": "stream",
     "text": [
      "Topic 'user_behavior' deleted successfully.\n"
     ]
    }
   ],
   "source": [
    "from kafka import KafkaAdminClient\n",
    "from kafka.admin import NewTopic\n",
    "# Example usage\n",
    "topic_name = 'user_behavior'\n",
    "bootstrap_servers = [\"10.237.96.122:9092\"]\n",
    "N_PARTITIONS = 1\n",
    "def delete_kafka_topic(topic_name, bootstrap_servers=bootstrap_servers):\n",
    "    # Create an admin client\n",
    "    admin_client = KafkaAdminClient(bootstrap_servers=bootstrap_servers[0])\n",
    "\n",
    "    # Delete the topic\n",
    "    admin_client.delete_topics([topic_name])\n",
    "    print(f\"Topic '{topic_name}' deleted successfully.\")\n",
    "\n",
    "\n",
    "try:\n",
    "    delete_kafka_topic(topic_name)\n",
    "except Exception as e:\n",
    "    print(f\"Error: {e}\")\n",
    "\n",
    "# create topic foobar with N partitions\n",
    "admin_client = KafkaAdminClient(bootstrap_servers=bootstrap_servers)\n",
    "# admin_client.create_topics([NewTopic(name=topic_name, num_partitions=N_PARTITIONS, replication_factor=1)])\n",
    "\n",
    "\n",
    "# get number of partitions\n",
    "# admin_client.describe_topics(topic_name)"
   ]
  },
  {
   "cell_type": "code",
   "execution_count": 20,
   "metadata": {},
   "outputs": [
    {
     "data": {
      "text/plain": [
       "'2024-11-24T23:31:56.262866'"
      ]
     },
     "execution_count": 20,
     "metadata": {},
     "output_type": "execute_result"
    }
   ],
   "source": [
    "from datetime import datetime\n",
    "\n",
    "\n",
    "datetime.now().isoformat()"
   ]
  },
  {
   "cell_type": "code",
   "execution_count": 26,
   "metadata": {},
   "outputs": [],
   "source": [
    "import time\n"
   ]
  },
  {
   "cell_type": "code",
   "execution_count": 30,
   "metadata": {},
   "outputs": [
    {
     "data": {
      "text/plain": [
       "{'role_id': 52, 'behavior': 'like', 'ts': '2024-11-24 23:42:44.177'}"
      ]
     },
     "execution_count": 30,
     "metadata": {},
     "output_type": "execute_result"
    }
   ],
   "source": [
    "from datetime import datetime\n",
    "import random \n",
    "def gen_data():\n",
    "    role_id = random.randint(1, 100)\n",
    "    behavior = random.choice(['click', 'like', 'share'])\n",
    "    # ts = datetime.now().isoformat()  # Add a timestamp\n",
    "    ts = datetime.now().strftime(\"%Y-%m-%d %H:%M:%S.%f\")[:-3]  # Format to \"yyyy-MM-dd HH:mm:ss.SSS\"\n",
    "    return {\"role_id\": role_id, \"behavior\": behavior, \"ts\":ts}\n",
    "\n",
    "gen_data()"
   ]
  },
  {
   "cell_type": "code",
   "execution_count": 3,
   "metadata": {},
   "outputs": [],
   "source": [
    "from kafka import KafkaProducer\n",
    "import json\n",
    "\n",
    "producer = KafkaProducer(\n",
    "    bootstrap_servers=bootstrap_servers\n",
    ")\n"
   ]
  },
  {
   "cell_type": "code",
   "execution_count": 31,
   "metadata": {},
   "outputs": [],
   "source": [
    "\n",
    "for _ in range(10):\n",
    "    msg = gen_data()\n",
    "    producer.send(topic_name, value=json.dumps(msg).encode(\"utf-8\"))\n"
   ]
  }
 ],
 "metadata": {
  "kernelspec": {
   "display_name": "bigdata",
   "language": "python",
   "name": "python3"
  },
  "language_info": {
   "codemirror_mode": {
    "name": "ipython",
    "version": 3
   },
   "file_extension": ".py",
   "mimetype": "text/x-python",
   "name": "python",
   "nbconvert_exporter": "python",
   "pygments_lexer": "ipython3",
   "version": "3.9.20"
  }
 },
 "nbformat": 4,
 "nbformat_minor": 2
}
