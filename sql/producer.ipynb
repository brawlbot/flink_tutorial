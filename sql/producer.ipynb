{
 "cells": [
  {
   "cell_type": "code",
   "execution_count": 5,
   "metadata": {},
   "outputs": [
    {
     "name": "stdout",
     "output_type": "stream",
     "text": [
      "Topic 'user_behavior' deleted successfully.\n"
     ]
    }
   ],
   "source": [
    "from kafka import KafkaAdminClient\n",
    "from kafka.admin import NewTopic\n",
    "# Example usage\n",
    "topic_name = 'user_behavior'\n",
    "bootstrap_servers = [\"10.237.96.122:9092\"]\n",
    "N_PARTITIONS = 1\n",
    "def delete_kafka_topic(topic_name, bootstrap_servers=bootstrap_servers):\n",
    "    # Create an admin client\n",
    "    admin_client = KafkaAdminClient(bootstrap_servers=bootstrap_servers[0])\n",
    "\n",
    "    # Delete the topic\n",
    "    admin_client.delete_topics([topic_name])\n",
    "    print(f\"Topic '{topic_name}' deleted successfully.\")\n",
    "\n",
    "\n",
    "try:\n",
    "    delete_kafka_topic(topic_name)\n",
    "except Exception as e:\n",
    "    print(f\"Error: {e}\")\n",
    "\n",
    "# create topic foobar with N partitions\n",
    "admin_client = KafkaAdminClient(bootstrap_servers=bootstrap_servers)\n",
    "# admin_client.create_topics([NewTopic(name=topic_name, num_partitions=N_PARTITIONS, replication_factor=1)])\n",
    "\n",
    "\n",
    "# get number of partitions\n",
    "# admin_client.describe_topics(topic_name)"
   ]
  },
  {
   "cell_type": "code",
   "execution_count": 1,
   "metadata": {},
   "outputs": [],
   "source": [
    "import random \n",
    "def gen_data():\n",
    "    role_id = random.randint(1, 100)\n",
    "    behavior = random.choice(['click', 'like', 'share'])\n",
    "    return role_id, behavior\n",
    "gen_data()"
   ]
  },
  {
   "cell_type": "code",
   "execution_count": 6,
   "metadata": {},
   "outputs": [],
   "source": [
    "import time\n",
    "import pandas as pd\n",
    "import json\n",
    "from kafka import KafkaConsumer\n",
    "\n",
    "# Create a KafkaConsumer instance\n",
    "consumer = KafkaConsumer(\n",
    "    # bootstrap_servers=['localhost:9092'],\n",
    "    bootstrap_servers=[\"10.237.96.122:9092\"],\n",
    "    auto_offset_reset='latest',\n",
    "    # auto_offset_reset='earliest',\n",
    "    # receive_buffer_bytes=160*1024,\n",
    "    enable_auto_commit=False,\n",
    "    # value_deserializer=lambda m: json.loads(m.decode('ascii')),\n",
    ")\n",
    "\n",
    "consumer.subscribe(topics=[topic_name])\n",
    "N_sample =  - 1\n",
    "while True:\n",
    "    msg_poll = consumer.poll(timeout_ms=0)\n",
    "    for k, v in msg_poll.items():\n",
    "        print(k, v)\n",
    "    # break\n",
    "\n",
    "# df_record = pd.DataFrame(lst_record)\n",
    "# df_record.describe()\n",
    "msg_poll = consumer.poll(timeout_ms=0)\n",
    "for k, v in msg_poll.items():\n",
    "    print(k, v)"
   ]
  }
 ],
 "metadata": {
  "kernelspec": {
   "display_name": "bigdata",
   "language": "python",
   "name": "python3"
  },
  "language_info": {
   "codemirror_mode": {
    "name": "ipython",
    "version": 3
   },
   "file_extension": ".py",
   "mimetype": "text/x-python",
   "name": "python",
   "nbconvert_exporter": "python",
   "pygments_lexer": "ipython3",
   "version": "3.9.20"
  }
 },
 "nbformat": 4,
 "nbformat_minor": 2
}
