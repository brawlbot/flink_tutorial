{
 "cells": [
  {
   "cell_type": "code",
   "execution_count": 1,
   "metadata": {},
   "outputs": [],
   "source": [
    "# pip install kafka-python"
   ]
  },
  {
   "cell_type": "code",
   "execution_count": 1,
   "metadata": {},
   "outputs": [],
   "source": [
    "\n",
    "topic_name = 'user_behavior'\n",
    "bootstrap_servers = [\"10.237.96.122:9092\"]\n",
    "\n",
    "from kafka import KafkaProducer\n",
    "import json\n",
    "\n",
    "producer = KafkaProducer(\n",
    "    bootstrap_servers=bootstrap_servers\n",
    ")\n"
   ]
  },
  {
   "cell_type": "code",
   "execution_count": 2,
   "metadata": {},
   "outputs": [
    {
     "data": {
      "text/plain": [
       "{'user_id': 21,\n",
       " 'item_id': 1,\n",
       " 'category_id': 'shoes',\n",
       " 'behavior': 'share',\n",
       " 'ts': '2024-11-27 10:06:11.244'}"
      ]
     },
     "execution_count": 2,
     "metadata": {},
     "output_type": "execute_result"
    }
   ],
   "source": [
    "from datetime import datetime\n",
    "import time\n",
    "\n",
    "import random \n",
    "def gen_data():\n",
    "    user_id = random.randint(1, 100)\n",
    "    item_id = random.randint(1, 3)\n",
    "    category_id = random.choice(['shoes', 'skirt'])\n",
    "    behavior = random.choice(['click', 'like', 'share','buy'])\n",
    "    # behavior = 'buy'\n",
    "    # ts = datetime.now().isoformat()  # Add a timestamp\n",
    "    ts = datetime.now().strftime(\"%Y-%m-%d %H:%M:%S.%f\")[:-3]  # Format to \"yyyy-MM-dd HH:mm:ss.SSS\"\n",
    "\n",
    "    # ts = datetime.utcnow().strftime(\"%Y-%m-%dT%H:%M:%SZ\")\n",
    "\n",
    "    return {\"user_id\": user_id,\"item_id\": item_id, \n",
    "            \"category_id\":category_id, \"behavior\": behavior, \"ts\":ts\n",
    "            }\n",
    "\n",
    "gen_data()"
   ]
  },
  {
   "cell_type": "code",
   "execution_count": 4,
   "metadata": {},
   "outputs": [],
   "source": [
    "while True:\n",
    "    for _ in range(10):\n",
    "        msg = gen_data()\n",
    "        producer.send(topic_name, value=json.dumps(msg).encode(\"utf-8\"))\n",
    "    time.sleep(1)"
   ]
  }
 ],
 "metadata": {
  "kernelspec": {
   "display_name": "torch_pymem",
   "language": "python",
   "name": "python3"
  },
  "language_info": {
   "codemirror_mode": {
    "name": "ipython",
    "version": 3
   },
   "file_extension": ".py",
   "mimetype": "text/x-python",
   "name": "python",
   "nbconvert_exporter": "python",
   "pygments_lexer": "ipython3",
   "version": "3.10.15"
  }
 },
 "nbformat": 4,
 "nbformat_minor": 2
}
