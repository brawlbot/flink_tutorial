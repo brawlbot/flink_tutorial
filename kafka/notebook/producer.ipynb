{
 "cells": [
  {
   "cell_type": "code",
   "execution_count": 1,
   "metadata": {},
   "outputs": [],
   "source": [
    "from kafka import KafkaProducer\n",
    "\n",
    "\n",
    "bootstrap_servers = [\"10.237.96.122:9092\"]\n",
    "producer = KafkaProducer(\n",
    "    bootstrap_servers=bootstrap_servers\n",
    ")\n",
    "\n",
    "topic_name = \"input-topic\"\n"
   ]
  },
  {
   "cell_type": "code",
   "execution_count": 6,
   "metadata": {},
   "outputs": [],
   "source": [
    "# read file README.md\n",
    "with open(\"../README.md\", \"r\") as f:\n",
    "    producer.send(topic_name, value=f.read().encode(\"utf-8\"))\n"
   ]
  }
 ],
 "metadata": {
  "kernelspec": {
   "display_name": "torch_pymem",
   "language": "python",
   "name": "python3"
  },
  "language_info": {
   "codemirror_mode": {
    "name": "ipython",
    "version": 3
   },
   "file_extension": ".py",
   "mimetype": "text/x-python",
   "name": "python",
   "nbconvert_exporter": "python",
   "pygments_lexer": "ipython3",
   "version": "3.9.20"
  }
 },
 "nbformat": 4,
 "nbformat_minor": 2
}
