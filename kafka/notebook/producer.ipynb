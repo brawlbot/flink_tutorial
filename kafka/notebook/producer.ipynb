{
 "cells": [
  {
   "cell_type": "code",
   "execution_count": 1,
   "metadata": {},
   "outputs": [
    {
     "name": "stdout",
     "output_type": "stream",
     "text": [
      "Topic 'input-topic' deleted successfully.\n"
     ]
    },
    {
     "data": {
      "text/plain": [
       "[{'error_code': 3, 'topic': 'p', 'is_internal': False, 'partitions': []},\n",
       " {'error_code': 3, 'topic': 'c', 'is_internal': False, 'partitions': []},\n",
       " {'error_code': 3, 'topic': 't', 'is_internal': False, 'partitions': []},\n",
       " {'error_code': 3, 'topic': 'u', 'is_internal': False, 'partitions': []},\n",
       " {'error_code': 3, 'topic': 'i', 'is_internal': False, 'partitions': []},\n",
       " {'error_code': 3, 'topic': '-', 'is_internal': False, 'partitions': []},\n",
       " {'error_code': 3, 'topic': 'n', 'is_internal': False, 'partitions': []},\n",
       " {'error_code': 3, 'topic': 'o', 'is_internal': False, 'partitions': []}]"
      ]
     },
     "execution_count": 1,
     "metadata": {},
     "output_type": "execute_result"
    }
   ],
   "source": [
    "from kafka import KafkaAdminClient\n",
    "from kafka.admin import NewTopic\n",
    "# Example usage\n",
    "topic_name = 'input-topic'\n",
    "bootstrap_servers = [\"10.237.96.122:9092\"]\n",
    "N_PARTITIONS = 1\n",
    "def delete_kafka_topic(topic_name, bootstrap_servers=bootstrap_servers):\n",
    "    # Create an admin client\n",
    "    admin_client = KafkaAdminClient(bootstrap_servers=bootstrap_servers[0])\n",
    "\n",
    "    # Delete the topic\n",
    "    admin_client.delete_topics([topic_name])\n",
    "    print(f\"Topic '{topic_name}' deleted successfully.\")\n",
    "\n",
    "\n",
    "try:\n",
    "    delete_kafka_topic(topic_name)\n",
    "except Exception as e:\n",
    "    print(f\"Error: {e}\")\n",
    "\n",
    "# create topic foobar with N partitions\n",
    "admin_client = KafkaAdminClient(bootstrap_servers=bootstrap_servers)\n",
    "admin_client.create_topics([NewTopic(name=topic_name, num_partitions=N_PARTITIONS, replication_factor=1)])\n",
    "\n",
    "\n",
    "# get number of partitions\n",
    "admin_client.describe_topics(topic_name)"
   ]
  },
  {
   "cell_type": "code",
   "execution_count": 2,
   "metadata": {},
   "outputs": [],
   "source": [
    "from kafka import KafkaProducer\n",
    "\n",
    "\n",
    "producer = KafkaProducer(\n",
    "    bootstrap_servers=bootstrap_servers\n",
    ")\n",
    "\n",
    "topic_name = \"input-topic\"\n"
   ]
  },
  {
   "cell_type": "code",
   "execution_count": 43,
   "metadata": {},
   "outputs": [
    {
     "data": {
      "text/plain": [
       "<kafka.producer.future.FutureRecordMetadata at 0x10379b2b0>"
      ]
     },
     "execution_count": 43,
     "metadata": {},
     "output_type": "execute_result"
    }
   ],
   "source": [
    "msg = \"X\"*10\n",
    "producer.send(topic_name, value=msg.encode(\"utf-8\"))"
   ]
  },
  {
   "cell_type": "code",
   "execution_count": 11,
   "metadata": {},
   "outputs": [],
   "source": [
    "# read file README.md\n",
    "with open(\"../README.md\", \"r\") as f:\n",
    "    producer.send(topic_name, value=f.read().encode(\"utf-8\"))\n"
   ]
  }
 ],
 "metadata": {
  "kernelspec": {
   "display_name": "torch_pymem",
   "language": "python",
   "name": "python3"
  },
  "language_info": {
   "codemirror_mode": {
    "name": "ipython",
    "version": 3
   },
   "file_extension": ".py",
   "mimetype": "text/x-python",
   "name": "python",
   "nbconvert_exporter": "python",
   "pygments_lexer": "ipython3",
   "version": "3.9.20"
  }
 },
 "nbformat": 4,
 "nbformat_minor": 2
}
